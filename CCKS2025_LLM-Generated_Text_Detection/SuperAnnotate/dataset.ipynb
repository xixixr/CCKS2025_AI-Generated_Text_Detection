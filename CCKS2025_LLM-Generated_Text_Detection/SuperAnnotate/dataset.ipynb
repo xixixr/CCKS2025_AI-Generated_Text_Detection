{
 "cells": [
  {
   "cell_type": "code",
   "execution_count": null,
   "metadata": {},
   "outputs": [],
   "source": [
    "import json\n",
    "import os, sys\n",
    "import numpy as np\n",
    "import pandas as pd\n",
    "from langdetect import detect_langs\n",
    "\n",
    "import matplotlib.pyplot as plt\n",
    "\n",
    "import seaborn as sns\n",
    "from pandarallel import pandarallel\n",
    "pandarallel.initialize(progress_bar=False)"
   ]
  },
  {
   "cell_type": "code",
   "execution_count": null,
   "metadata": {},
   "outputs": [],
   "source": [
    "train_path = os.path.join('..', 'dataset', 'train.jsonl')\n",
    "test_path = os.path.join('..', 'dataset', 'test.jsonl')"
   ]
  },
  {
   "cell_type": "code",
   "execution_count": null,
   "metadata": {},
   "outputs": [],
   "source": [
    "# 读取数据\n",
    "df_train = pd.read_json(train_path, lines=True)\n",
    "# 展示数据\n",
    "df_train"
   ]
  },
  {
   "cell_type": "code",
   "execution_count": null,
   "metadata": {},
   "outputs": [],
   "source": [
    "df_test = pd.read_json(test_path, lines=True)\n",
    "df_test"
   ]
  },
  {
   "cell_type": "code",
   "execution_count": null,
   "metadata": {},
   "outputs": [],
   "source": [
    "# 1. 统计数据中的语言分布\n",
    "def lang_detect(text):\n",
    "    try:\n",
    "        return detect_langs(text)[0].lang\n",
    "    except:\n",
    "        return 'unknown'\n",
    "    \n",
    "# 测试数据语言分布，柱状图\n",
    "df_test['lang'] = df_test['text'].parallel_apply(lang_detect)\n",
    "# 柱状图，在顶部加上百分比\n",
    "def plot_lang_distribution(df):\n",
    "    lang_counts = df['lang'].value_counts()\n",
    "    lang_counts.plot(kind='bar')\n",
    "    for i, count in enumerate(lang_counts):\n",
    "        plt.text(i, count, f'{count}', ha='center', va='bottom')\n",
    "    plt.title('Language Distribution')\n",
    "    plt.xlabel('Language')\n",
    "    plt.ylabel('Count')\n",
    "    plt.show()\n",
    "plot_lang_distribution(df_test)\n",
    "\n",
    "# 训练数据语言分布，柱状图\n",
    "df_train['lang'] = df_train['text'].parallel_apply(lang_detect)\n",
    "# 柱状图，在顶部加上百分比\n",
    "plot_lang_distribution(df_train)"
   ]
  },
  {
   "cell_type": "code",
   "execution_count": null,
   "metadata": {},
   "outputs": [],
   "source": [
    "# 2. 统计训练数据长度分布\n",
    "def plot_length_distribution(df, prefix='train'):\n",
    "    # 计算文本单词长度\n",
    "    df['length'] = df['text'].str.split().str.len()\n",
    "    # 绘制直方图\n",
    "    plt.figure(figsize=(10, 6))\n",
    "    sns.histplot(df['length'], bins=100, kde=True)\n",
    "    plt.title(f'{prefix.capitalize()} Length Distribution')\n",
    "    plt.xlabel('Length')\n",
    "    plt.ylabel('Frequency')\n",
    "    plt.show()\n",
    "   \n",
    "\n",
    "plot_length_distribution(df_test, prefix='test')\n",
    "plot_length_distribution(df_train, prefix='train')\n",
    "\n",
    "# 训练集合中标签为1的长度分布\n",
    "df_train_llm = df_train[df_train['label'] == 1]\n",
    "df_train_human = df_train[df_train['label'] == 0]\n",
    "\n",
    "plot_length_distribution(df_train_llm, prefix='train_llm')\n",
    "plot_length_distribution(df_train_human, prefix='train_human')"
   ]
  }
 ],
 "metadata": {
  "kernelspec": {
   "display_name": "learning_xr",
   "language": "python",
   "name": "python3"
  },
  "language_info": {
   "codemirror_mode": {
    "name": "ipython",
    "version": 3
   },
   "file_extension": ".py",
   "mimetype": "text/x-python",
   "name": "python",
   "nbconvert_exporter": "python",
   "pygments_lexer": "ipython3",
   "version": "3.11.13"
  }
 },
 "nbformat": 4,
 "nbformat_minor": 2
}
